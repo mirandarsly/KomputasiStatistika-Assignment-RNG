{
  "cells": [
    {
      "cell_type": "markdown",
      "metadata": {
        "id": "-cXvtprSA2Xx"
      },
      "source": [
        "<center><h1><strong><font color=\"blue\">Random Number Generator (RNG) & Simulasi (Monte Carlo)</font></strong></h1></center>\n",
        "<center><h2><strong><font color=\"green\">Case Study / Exercise **Kelompok H**</font></strong></h2></center>\n",
        "<img alt=\"\" src=\"https://github.com/taudataid/KompStat-CaseStudies/blob/main/images/cover_ui-n-taudata.jpg?raw=1\"/>\n"
      ]
    },
    {
      "cell_type": "markdown",
      "metadata": {
        "id": "fUdL1oJJA2X1"
      },
      "source": [
        "# <center><font color=\"blue\">Catatan</font></center>\n",
        "\n",
        "1. Yakinkan jupyter notebook (file .ipynb) yang dikumpulkan dapat di \"run all\" dengan sukses di Google Colab.\n",
        "2. Beri nama file ipynb anda berdasarkan nama kelompok, misal \"**kelompok-H.ipynb**\"\n",
        "3. Anda dapat menggunakan ipynb ini sebagai template jawaban.\n",
        "4. Harap membaca soal dengan teliti.\n",
        "5. Jangan lupa untuk menetapkan SEED anda di awal pengerjaan.\n",
        "6. Ketua kelompok silahkan mengirimkan email jawaban tersebut ke: \n",
        " -  taufik.sutanto@sci.ui.ac.id \n",
        " -\tSubject: Case Study RNG Komputasi Statistika UI - Ganjil 2022 Kelompok \"XYZ\"\n",
        " -\tIsi Email:\n",
        "\t* Nama dan Nomer mahasiswa ketua dan anggota kelompok\n",
        "\t* Attachment jawaban latihan (format ipynb - Jupyter Notebook)\n",
        "\n",
        "Selamat Mengerjakan"
      ]
    },
    {
      "cell_type": "code",
      "execution_count": 1,
      "metadata": {
        "ExecuteTime": {
          "end_time": "2022-10-13T22:33:37.204251Z",
          "start_time": "2022-10-13T22:33:32.314637Z"
        },
        "id": "XGoyYbXqA2X2",
        "outputId": "eb0de275-241c-4476-ebbd-4dd315d6d2c8",
        "colab": {
          "base_uri": "https://localhost:8080/",
          "height": 35
        }
      },
      "outputs": [
        {
          "output_type": "execute_result",
          "data": {
            "text/plain": [
              "'Done'"
            ],
            "application/vnd.google.colaboratory.intrinsic+json": {
              "type": "string"
            }
          },
          "metadata": {},
          "execution_count": 1
        }
      ],
      "source": [
        "# Importing Modules untuk Notebook ini\n",
        "import warnings; warnings.simplefilter('ignore')\n",
        "import matplotlib.pyplot as plt, seaborn as sns, numpy as np\n",
        "sns.set(style=\"ticks\", color_codes=True)\n",
        "\n",
        "\"Done\""
      ]
    },
    {
      "cell_type": "markdown",
      "metadata": {
        "id": "DhuecgGPA2X4"
      },
      "source": [
        "# Soal 01: Multiplicative Congruential\n",
        "\n",
        "1. Buatlah sebuah fungsi pembangkit bilangan acak dengan fungsi Greenberger (Multiplicative congruential.) dengan ketentuan modifikasi sebagai berikut:\n",
        " * \tXo = 11, a=7, c=5, m = $2^{32}$\n",
        " * \tInput fungsi adalah $N$ (jumlah bilangan yang akan dibangkitkan)\n",
        " *\tOutput fungsi adalah sebuah skalar: rata-rata semua $N$ suku dibarisan yang dibangkitkan. \n",
        " *  Jangan lupa untuk menormalisasi semua sukunya dengan $m$.\n",
        "\n",
        "2. Jika $X = x_1, x_2, ..., x_N$ adalah barisan $N$ output dari fungsi diatas, apakah distribusi dari $X$? Jelaskan.\n",
        "\n",
        "3. Apakah $X$ memiliki periode? jelaskan."
      ]
    },
    {
      "cell_type": "code",
      "execution_count": 22,
      "metadata": {
        "ExecuteTime": {
          "end_time": "2022-10-13T22:47:06.460838Z",
          "start_time": "2022-10-13T22:47:06.444775Z"
        },
        "id": "pG3TwB-3A2X5"
      },
      "outputs": [],
      "source": [
        "# Jawaban Soal 01 dapat dituliskan di cell ini. \n",
        "# Tambahkan cell lain jika diperlukan\n",
        "\n",
        "#Nomor 1\n",
        "\n",
        "def Greenberger(N):\n",
        "  a = 7\n",
        "  m = 2**32\n",
        "  c = 5\n",
        "  xo = 11\n",
        "  x = (a*xo + c)%m\n",
        "  random = np.array([x/m])  #dibuat array agar bisa dilakukan visualisasi / plottingan grafik\n",
        "  for i in range(N):\n",
        "    x = (a*x + c)%m\n",
        "    random = np.append(random, x/m)\n",
        "  return random"
      ]
    },
    {
      "cell_type": "code",
      "source": [
        "nyoba = Greenberger(10**5)\n",
        "nyoba[:50]"
      ],
      "metadata": {
        "colab": {
          "base_uri": "https://localhost:8080/"
        },
        "id": "np4K2ySvDFBT",
        "outputId": "ebed5241-c04d-400c-9488-5f1bca13cc17"
      },
      "execution_count": 25,
      "outputs": [
        {
          "output_type": "execute_result",
          "data": {
            "text/plain": [
              "array([1.90921128e-08, 1.34808943e-07, 9.44826752e-07, 6.61495142e-06,\n",
              "       4.63058241e-05, 3.24141933e-04, 2.26899469e-03, 1.58829640e-02,\n",
              "       1.11180749e-01, 7.78265246e-01, 4.47856723e-01, 1.34997061e-01,\n",
              "       9.44979430e-01, 6.14856009e-01, 3.03992065e-01, 1.27944457e-01,\n",
              "       8.95611201e-01, 2.69278408e-01, 8.84948856e-01, 1.94641991e-01,\n",
              "       3.62493940e-01, 5.37457582e-01, 7.62203077e-01, 3.35421542e-01,\n",
              "       3.47950798e-01, 4.35655587e-01, 4.95891110e-02, 3.47123778e-01,\n",
              "       4.29866449e-01, 9.06514074e-03, 6.34559863e-02, 4.44191905e-01,\n",
              "       1.09343339e-01, 7.65403376e-01, 3.57823631e-01, 5.04765420e-01,\n",
              "       5.33357941e-01, 7.33505589e-01, 1.34539122e-01, 9.41773857e-01,\n",
              "       5.92416998e-01, 1.46918990e-01, 2.84329341e-02, 1.99030540e-01,\n",
              "       3.93213779e-01, 7.52496456e-01, 2.67475190e-01, 8.72326332e-01,\n",
              "       1.06284325e-01, 7.43990273e-01])"
            ]
          },
          "metadata": {},
          "execution_count": 25
        }
      ]
    },
    {
      "cell_type": "code",
      "source": [
        "#Nomor 2 - Dibuat visualisasi agar terlihat berdistribusi apa.\n",
        "plot = sns.displot(x=nyoba, kde=True)"
      ],
      "metadata": {
        "id": "TobQ9YW0Fd_S",
        "colab": {
          "base_uri": "https://localhost:8080/",
          "height": 365
        },
        "outputId": "75633acc-a284-4a44-b8f9-983a73e073c9"
      },
      "execution_count": 26,
      "outputs": [
        {
          "output_type": "display_data",
          "data": {
            "text/plain": [
              "<Figure size 360x360 with 1 Axes>"
            ],
            "image/png": "[encoded data removed]"
          },
          "metadata": {}
        }
      ]
    },
    {
      "cell_type": "markdown",
      "source": [
        "Dari plot tersebut, terlihat bahwa bilangan random Greenberger berdistribusi uniform"
      ],
      "metadata": {
        "id": "Z9QWRv89ItQw"
      }
    },
    {
      "cell_type": "markdown",
      "source": [
        "#Nomor 3\n",
        "\n",
        "Berdasarkan definisi, Metode Congruential akan berulang setelah maksimum suku ke m sehingga bersifat periodik. Ciri/Karakteristik dari metode ini adalah akan terjadi pengulangan hasil setelah sekian kali/hasil ke-n pembangkitan. \n",
        "\n",
        "Kelemahan periode:\n",
        "Barisan bilangannya berulang dengan periode yang selalu < m. (periode sangat singkat)\n",
        "\n",
        "Jika ingin memiliki periode yang lebih lama dalam pengulanganya, diperlukan memilih parameter yang baik untuk a dan m.\n",
        "\n",
        "Jadi, ya X akan memiliki periode.\n"
      ],
      "metadata": {
        "id": "LutgvNrUMbIf"
      }
    },
    {
      "cell_type": "markdown",
      "metadata": {
        "id": "oB_eyRM3A2X5"
      },
      "source": [
        "# Soal 02: Poisson Distribution\n",
        "\n",
        "* Algoritma untuk menghasilkan bilangan random diskrit berdistribusi Poisson dapat anda temukan dari beberapa sumber di dunia maya: https://www.google.com/search?q=algorithm+generate+poisson+distribution&newwindow=1&sxsrf=ALiCzsbKw0SJtuLmaOS3B9XNVrTNtbeuXw:1665702878239&source=lnms&tbm=isch&sa=X&ved=2ahUKEwixjO_iqt76AhXpcGwGHavxB88Q_AUoAXoECAEQAw#imgrc=pnIy3d_qBdlPnM \n",
        "\n",
        "1. Aplikasikan algoritma tersebut dengan bahasa Python (tanpa menggunakan module : Pure Python).\n",
        "\n",
        "2. Bandingkan hasil anda (melalui visualisasi) dengan distribusi Python yang dihasilkan oleh Numpy menggunakan 100.000 sample.\n",
        " - https://numpy.org/doc/stable/reference/random/generated/numpy.random.poisson.html\n"
      ]
    },
    {
      "cell_type": "code",
      "execution_count": 5,
      "metadata": {
        "ExecuteTime": {
          "end_time": "2022-10-13T23:20:43.730041Z",
          "start_time": "2022-10-13T23:20:43.713162Z"
        },
        "id": "npULDrwgA2X6"
      },
      "outputs": [],
      "source": [
        "# Jawaban Soal 02 dapat dituliskan di cell ini. \n",
        "# Tambahkan cell lain jika diperlukan\n",
        "\n",
        "def poisson (lmbd):\n",
        "  l=np.exp(-lmbd)\n",
        "  n=0\n",
        "  u=np.random.uniform(0,1)\n",
        "\n",
        "  pp=l\n",
        "  f=1\n",
        "  pow=1\n",
        "\n",
        "  while u>pp:\n",
        "    n=n+1\n",
        "    f=n*f\n",
        "    pow=lmbd*pow\n",
        "\n",
        "    pp=pp+(pow/f)*l\n",
        "  return n\n",
        "\n",
        "def DiscRandPoisson(d,lmbd):\n",
        "  lista=[]\n",
        "  for i in range(d):\n",
        "    lista.append(poisson(lmbd))\n",
        "  lista=np.array(lista)\n",
        "  return lista\n"
      ]
    },
    {
      "cell_type": "code",
      "source": [
        "#Discrete Random Number Berdistribusi Poisson dengan Pure Python\n",
        "a = DiscRandPoisson(10000,100)\n",
        "print(a)\n",
        "plota = sns.displot(x=a, kde=True)"
      ],
      "metadata": {
        "colab": {
          "base_uri": "https://localhost:8080/",
          "height": 382
        },
        "id": "yuQKNqrgamOV",
        "outputId": "6dbd40a0-ed16-4d76-d415-c9f88db1bfe2"
      },
      "execution_count": 6,
      "outputs": [
        {
          "output_type": "stream",
          "name": "stdout",
          "text": [
            "[101  91  98 ...  98  88  87]\n"
          ]
        },
        {
          "output_type": "display_data",
          "data": {
            "text/plain": [
              "<Figure size 360x360 with 1 Axes>"
            ],
            "image/png": "[encoded data removed]"
          },
          "metadata": {}
        }
      ]
    },
    {
      "cell_type": "code",
      "source": [
        "#Discrete Random Number Berdistribusi Poisson dengan Pure Python\n",
        "b = np.random.poisson(lam=100,size=10000)\n",
        "print(b)\n",
        "plotb = sns.displot(x=b, kde=True)"
      ],
      "metadata": {
        "colab": {
          "base_uri": "https://localhost:8080/",
          "height": 382
        },
        "id": "o3eMmXzPapWs",
        "outputId": "bd7d7b07-423d-4902-f93f-f115ac62f2c1"
      },
      "execution_count": 7,
      "outputs": [
        {
          "output_type": "stream",
          "name": "stdout",
          "text": [
            "[ 99 100 107 ... 101  78  90]\n"
          ]
        },
        {
          "output_type": "display_data",
          "data": {
            "text/plain": [
              "<Figure size 360x360 with 1 Axes>"
            ],
            "image/png": "[encoded data removed]"
          },
          "metadata": {}
        }
      ]
    },
    {
      "cell_type": "markdown",
      "source": [
        "Berdasarkan visualisasi tersebut, dapat dilihat bahwa Discrete Random Number Berdistribusi Poisson dengan pure python dan numpy cukup mirip"
      ],
      "metadata": {
        "id": "FJ1r6DBYatXx"
      }
    },
    {
      "cell_type": "markdown",
      "metadata": {
        "id": "AEYMgGioA2X7"
      },
      "source": [
        "# Soal 03: CRUDE MONTE CARLO\n",
        "\n",
        "* Di Module RNG minggu lalu sudah dibahas tentang Hit-or-Miss Monte Carlo untuk penyelesaian pendekatan dari sebuah integral. Namun Metode Crude Monte Carlo belum dibahas. Keterangan Metode Crude Monte Carlo adalah sebagai berikut:\n",
        "\n",
        "<img alt=\"\" src=\"https://github.com/taudataid/KompStat-CaseStudies/blob/main/images/crude-MC.png?raw=1\"/>\n",
        "\n",
        "* Atau anda juga bisa membaca lebih lanjut di tautan berikut: https://www.google.com/search?q=%22Crude+monte+carlo%22+integral&oq=%22Crude+monte+carlo%22+integral&aqs=edge..69i57.8774j0j1&sourceid=chrome&ie=UTF-8\n",
        "\n",
        "* Menggunakan fungsi yang sama dengan yang ada di module kuliah $$\\theta = \\int_0^1 \\frac{e^x-1}{e-1} dx$$\n",
        "Tentukan:\n",
        "1. Solusi Pendekatannya menggunakan Crude MC dengan N = 100\n",
        "2. Bandingkan hasil pendekatan anda dengan solusi eksak dan solusi hit-or-miss\n",
        "3. Buatlah selang kepercayaan 95% dari solusi MC ini."
      ]
    },
    {
      "cell_type": "code",
      "source": [],
      "metadata": {
        "id": "BaCLWSf5aoYw"
      },
      "execution_count": 7,
      "outputs": []
    },
    {
      "cell_type": "code",
      "source": [
        "# importing the modules\n",
        "from scipy import random\n",
        "import numpy as np\n",
        "  \n",
        "# limits of integration\n",
        "a = 0\n",
        "b = 1 # gets the value of pi\n",
        "N = 100\n",
        "  \n",
        "# array of zeros of length N\n",
        "ar = np.zeros(N)\n",
        "  \n",
        "# iterating over each Value of ar and filling \n",
        "# it with a random value between the limits a\n",
        "# and b\n",
        "for i in range (len(ar)):\n",
        "    ar[i] = random.uniform(a,b)\n",
        "  \n",
        "# variable to store sum of the functions of \n",
        "# different values of x\n",
        "integral = 0.0\n",
        "  \n",
        "# function to calculate the sin of a particular\n",
        "# value of x\n",
        "def f(x):\n",
        "    return (np.exp(x)-1)/(np.exp(1)-1)\n",
        "  \n",
        "# iterates and sums up values of different functions\n",
        "# of x\n",
        "for i in ar:\n",
        "    integral += f(i)\n",
        "  \n",
        "# we get the answer by the formula derived adobe\n",
        "ans = (b-a)/float(N)*integral\n",
        "  \n",
        "# prints the solution\n",
        "print (\"The value calculated by monte carlo integration is {}.\".format(ans))"
      ],
      "metadata": {
        "id": "ZXYLgdDYUrtf",
        "outputId": "a31f53c4-f38e-4d9d-af3e-3b4ec5c96c37",
        "colab": {
          "base_uri": "https://localhost:8080/"
        }
      },
      "execution_count": 8,
      "outputs": [
        {
          "output_type": "stream",
          "name": "stdout",
          "text": [
            "The value calculated by monte carlo integration is 0.40789654467781555.\n"
          ]
        }
      ]
    },
    {
      "cell_type": "code",
      "execution_count": 9,
      "metadata": {
        "ExecuteTime": {
          "end_time": "2022-10-13T23:36:01.959911Z",
          "start_time": "2022-10-13T23:36:01.945911Z"
        },
        "id": "_6FkhmJEA2X7",
        "colab": {
          "base_uri": "https://localhost:8080/"
        },
        "outputId": "bf94cbfc-0389-4895-c5ae-43ce7e461172"
      },
      "outputs": [
        {
          "output_type": "stream",
          "name": "stdout",
          "text": [
            "$$$ Hit or Miss Monte Carlo $$$\n",
            "Hasil Approksimasi =  0.43\n",
            "Error =  0.01200000000000001\n",
            "Standar Error =  0.049323016939356014\n",
            "Aproksimasi Error =  0.04950757517794625\n",
            "Confidence Interval 95% =  0.43  +/-  0.0990151503558925\n"
          ]
        }
      ],
      "source": [
        "# Jawaban Soal 03 dapat dituliskan di cell ini. \n",
        "# Tambahkan cell lain jika diperlukan\n",
        "from random import seed\n",
        "from random import random\n",
        "from numpy.random import seed\n",
        "from numpy.random import rand\n",
        "\n",
        "def f(x):\n",
        "    return (np.exp(x)-1)/(np.exp(1)-1)\n",
        "\n",
        "seed(1)\n",
        "\n",
        "N=100\n",
        "teta = 0.418\n",
        "sigma = 0.286 #Solusi Eksak teta dan sigma\n",
        "xrand = rand(N)\n",
        "yrand = rand(N) # Random Uniform x dan y\n",
        "print('$$$ Hit or Miss Monte Carlo $$$') # Hit or Miss Monte Carlo\n",
        "\n",
        "fxrand=f(xrand)\n",
        "CheckValue = fxrand>=yrand\n",
        "Hit_or_Miss=sum(CheckValue)/N\n",
        "\n",
        "print('Hasil Approksimasi = ', Hit_or_Miss)\n",
        "print('Error = ', abs(teta-Hit_or_Miss))\n",
        "print('Standar Error = ', np.sqrt(teta*(1-teta)/N))\n",
        "print('Aproksimasi Error = ', np.sqrt(Hit_or_Miss*(1-Hit_or_Miss)/N))\n",
        "print('Confidence Interval 95% = ', Hit_or_Miss, ' +/- ', 2*np.sqrt(Hit_or_Miss*(1-Hit_or_Miss)/N))"
      ]
    },
    {
      "cell_type": "markdown",
      "source": [
        "Sehingga dapat disimpulkan, yaitu\n",
        "1. Solusi pendekatannya menggunakan Crude MC adalah 0.48810157967485096 sehingga masih masuk dalam interval 0.43  +/-  0.0990151503558925\n",
        "\n",
        "2. Solusi eksak didapat dari hasil aproksimasi dikurangi dengan error, yaitu 0.43 - 0.01200000000000001 = 0.418\n",
        "Maka, dapat disimpulkan\n",
        "\n",
        "- Perbedaan hasil pendekatan dengan eksak, yaitu 0.48810157967485096- 0.418 = 0.0701015796749\n",
        "- Perbedaan hasil pendekatan dengan hit or miss, yaitu 0.48810157967485096-0.43 = 0.0581015796749\n",
        "\n",
        "\n",
        "3. Confidence Interval 95% adalah 0.43  +/-  0.0990151503558925"
      ],
      "metadata": {
        "id": "zxmL8E0rPcXv"
      }
    },
    {
      "cell_type": "markdown",
      "metadata": {
        "id": "8ZVQrsL9A2X8"
      },
      "source": [
        "<center><h1><strong><font color=\"blue\">Selamat Mengerjakan</font></strong></h1></center>\n",
        "\n",
        "<img alt=\"\" src=\"https://github.com/taudataid/KompStat-CaseStudies/blob/main/images/hard-work-happens-591479.jpg?raw=1\"/>"
      ]
    }
  ],
  "metadata": {
    "celltoolbar": "Slideshow",
    "hide_input": false,
    "kernelspec": {
      "display_name": "Python 3 (ipykernel)",
      "language": "python",
      "name": "python3"
    },
    "language_info": {
      "codemirror_mode": {
        "name": "ipython",
        "version": 3
      },
      "file_extension": ".py",
      "mimetype": "text/x-python",
      "name": "python",
      "nbconvert_exporter": "python",
      "pygments_lexer": "ipython3",
      "version": "3.7.13"
    },
    "latex_envs": {
      "LaTeX_envs_menu_present": true,
      "autoclose": false,
      "autocomplete": true,
      "bibliofile": "biblio.bib",
      "cite_by": "apalike",
      "current_citInitial": 1,
      "eqLabelWithNumbers": true,
      "eqNumInitial": 1,
      "hotkeys": {
        "equation": "Ctrl-E",
        "itemize": "Ctrl-I"
      },
      "labels_anchors": false,
      "latex_user_defs": false,
      "report_style_numbering": false,
      "user_envs_cfg": false
    },
    "colab": {
      "provenance": [],
      "collapsed_sections": []
    }
  },
  "nbformat": 4,
  "nbformat_minor": 0
}